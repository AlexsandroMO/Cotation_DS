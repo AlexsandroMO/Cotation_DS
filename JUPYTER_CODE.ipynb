{
 "cells": [
  {
   "cell_type": "code",
   "execution_count": 12,
   "id": "2fa58d26-a90d-4c83-b7b8-a07d94395102",
   "metadata": {
    "scrolled": true
   },
   "outputs": [
    {
     "name": "stdout",
     "output_type": "stream",
     "text": [
      "Banco e tabela BASE_COTATION criados com sucesso e dados inseridos.\n"
     ]
    }
   ],
   "source": [
    "import sqlite3\n",
    "\n",
    "# Conectar/criar banco de dados SQLite local\n",
    "conn = sqlite3.connect('cotation.db')\n",
    "cursor = conn.cursor()\n",
    "\n",
    "# Criar tabela BASE_COTATION\n",
    "cursor.execute('''\n",
    "CREATE TABLE IF NOT EXISTS BASE_COTATION (\n",
    "    id INTEGER PRIMARY KEY AUTOINCREMENT,\n",
    "    category TEXT,\n",
    "    product TEXT,\n",
    "    description TEXT,\n",
    "    ncm TEXT,\n",
    "    value REAL,\n",
    "    comments TEXT\n",
    ")\n",
    "''')\n",
    "\n",
    "# Dados fornecidos (convertendo valor para float, tirando \"R$\" e espaços)\n",
    "dados = [\n",
    "    (\" \", \" \", \" \", \" \", 0, None),\n",
    "    (\"Adesivos e Selantes\", \"Adesivo instantâneo (cianoacrilato)\", \"Adesivo instantâneo base cianoacrilato, cura rápida, alta resistência, uso geral. Embalagem: 20g ou 22g. Ex: Super Bonder Loctite.\", \"3506.10.10\", 300.00, None),\n",
    "    (\"Adesivos e Selantes\", \"Adesivo de contato (Cascola 730 g)\", \"Adesivo de contato à base de borracha sintética, marca Cascola, para colagem de MDF, couro, EVA, etc. Embalagem: lata 730g.\", \"3506.10.90\", 238.00, None),\n",
    "    (\"Adesivos e Selantes\", \"Adesivo Cascola (30 g)\", \"Adesivo de contato Cascola tradicional, base solvente, para pequenos reparos. Embalagem: tubo 30g.\", \"3506.91.10\", 187.00, None),\n",
    "    (\"Adesivos e Selantes\", \"Adesivo Cascola (70 g)\", \"Adesivo de contato Cascola tradicional, base solvente, para pequenos reparos. Embalagem: tubo 70g.\", \"3402.90.15\", 250.00, None),\n",
    "    (\"Eletrodomésticos\", \"Ventilador de parede\", \"Ventilador oscilante de parede, industrial ou doméstico, 3 pás, 60 cm, 220 V ou bivolt, potência mínima 200 W, 3 velocidades.\", \"8414.51.10\", 115.00, \"joao\"),\n",
    "    (\"Eletrodomésticos\", \"Ventilador pedestal\", \"Ventilador de coluna/pedestal, altura ajustável, 3 pás, 220 V ou bivolt, 3 velocidades, potência mínima 200 W, base circular.\", \"8414.51.10\", 122.00, None),\n",
    "    (\"Eletrodomésticos\", \"Geladeira Frost Free\", \"Refrigerador doméstico vertical com sistema frost free, capacidade entre 300 L e 450 L, 220 V, eficiência energética classe A.\", \"8418.10.00\", 215.00, None),\n",
    "    (\"Ferramentas Elétricas\", \"Chave parafusadeira\", \"Chave parafusadeira elétrica ou a bateria (12 V ou superior), com controle de torque, mandril de ⅜\\\", rotação reversível, com ou sem impacto.\", \"8467.21.00\", 213.00, None),\n",
    "    (\"Fixadores e Suportes\", \"Abraçadeira de nylon\", \"Abraçadeira plástica tipo nylon, UV resistente, cor preta ou natural. Dimensões típicas: 300mm x 4,8mm. Embalagem: pacote com 100 unidades.\", \"3926.90.90\", 25.00, None),\n",
    "    (\"Fixadores e Suportes\", \"Abraçadeira metálica\", \"Abraçadeira em aço galvanizado tipo \\\"U\\\" ou tipo \\\"mangote\\\", para fixação de eletrodutos ou mangueiras. Tamanhos diversos (ex: 1”, 1.½”).\", \"7326.90.90\", 500.00, None),\n",
    "    (\"Lubrificantes Industriais\", \"Graxa Pasta tubo 100g ou pote 1kg, Molykote\", \"Graxa lubrificante tipo pasta, marca Molykote, base sintética com sólidos lubrificantes, resistente à altas cargas e temperaturas. Embalagem: tubo 100g ou pote 1kg.\", \"3401.20.90\", 230.00, None),\n",
    "    (\"Lubrificantes Industriais\", \"Graxa Pasta tubo 3,5kg, Molykote\", \"Graxa lubrificante tipo pasta, marca Molykote, base sintética com sólidos lubrificantes, resistente à altas cargas e temperaturas. Embalagem: tubo 3,5kg.\", \"3402.90.39\", 520.00, None),\n",
    "    (\"Lubrificantes Industriais\", \"Graxa Pasta tubo 10kg, Molykote\", \"Graxa lubrificante tipo pasta, marca Molykote, base sintética com sólidos lubrificantes, resistente à altas cargas e temperaturas. Embalagem: tubo 10kg.\", \"3402.90.25\", 875.00, None),\n",
    "    (\"Materiais Metálicos\", \"Arame farpado\", \"Arame farpado galvanizado, tipo Elefante, rolo de 100m. Fio de aço galvanizado com dupla torção, resistência ≥ 350MPa.\", \"7313.00.00\", 1250.00, None),\n",
    "    (\"Materiais Têxteis\", \"Saco alvejado\", \"Saco alvejado de algodão alvejado cru, costurado, tamanho padrão 60x100 cm. Gramatura mínima: 180 g/m². Usado para armazenagem geral ou proteção de peças.\", \"6305.32.00\", 98.00, None),\n",
    "]\n",
    "\n",
    "# Inserir os dados na tabela\n",
    "cursor.executemany('''\n",
    "INSERT INTO BASE_COTATION (category, product, description, ncm, value, comments)\n",
    "VALUES (?, ?, ?, ?, ?, ?)\n",
    "''', dados)\n",
    "\n",
    "# Salvar (commit) as alterações e fechar conexão\n",
    "conn.commit()\n",
    "conn.close()\n",
    "\n",
    "print(\"Banco e tabela BASE_COTATION criados com sucesso e dados inseridos.\")\n"
   ]
  },
  {
   "cell_type": "code",
   "execution_count": null,
   "id": "97138dec",
   "metadata": {},
   "outputs": [],
   "source": [
    "import sqlite3\n",
    "\n",
    "# Conectar ao banco cotation.db\n",
    "conn = sqlite3.connect('cotation.db')\n",
    "cursor = conn.cursor()\n",
    "\n",
    "# Criar tabela UN_BASE\n",
    "cursor.execute('''\n",
    "CREATE TABLE IF NOT EXISTS UN_BASE (\n",
    "    id INTEGER PRIMARY KEY AUTOINCREMENT,\n",
    "    unit TEXT UNIQUE NOT NULL\n",
    ")\n",
    "''')\n",
    "\n",
    "# Lista de unidades\n",
    "units = [\n",
    "    \" \",\n",
    "    \"UNIT\",\n",
    "    \"BOBINA\",\n",
    "    \"CJ\",\n",
    "    \"FARDO\",\n",
    "    \"FOLHA\",\n",
    "    \"KG\",\n",
    "    \"LITRO\",\n",
    "    \"M²\",\n",
    "    \"M³\",\n",
    "    \"METRO\",\n",
    "    \"METROS\",\n",
    "    \"PACOTE\",\n",
    "    \"PARES\",\n",
    "    \"PEÇA\"\n",
    "]\n",
    "\n",
    "# Inserir unidades na tabela, ignorando duplicatas (devido UNIQUE)\n",
    "for u in units:\n",
    "    try:\n",
    "        cursor.execute('INSERT INTO UN_BASE (unit) VALUES (?)', (u,))\n",
    "    except sqlite3.IntegrityError:\n",
    "        pass  # unidade já existe, ignora\n",
    "\n",
    "# Salvar e fechar\n",
    "conn.commit()\n",
    "conn.close()\n",
    "\n",
    "print(\"Tabela UN_BASE criada e unidades inseridas com sucesso.\")"
   ]
  },
  {
   "cell_type": "code",
   "execution_count": 3,
   "id": "93d2c077",
   "metadata": {},
   "outputs": [
    {
     "name": "stdout",
     "output_type": "stream",
     "text": [
      "Tabela email_db criada e dados inseridos com sucesso.\n"
     ]
    }
   ],
   "source": [
    "import sqlite3\n",
    "\n",
    "# Conectar ao banco cotation.db\n",
    "conn = sqlite3.connect('cotation.db')\n",
    "cursor = conn.cursor()\n",
    "\n",
    "# Criar tabela email_db\n",
    "cursor.execute('''\n",
    "CREATE TABLE IF NOT EXISTS email_db (\n",
    "    id INTEGER PRIMARY KEY AUTOINCREMENT,\n",
    "    comprador TEXT NOT NULL,\n",
    "    email TEXT\n",
    ")\n",
    "''')\n",
    "\n",
    "# Dados dos compradores e emails\n",
    "dados_email = [\n",
    "    (\" \", \" \"),\n",
    "    (\"ELIANE NOLASCO\", \"elianee@eletronuclear.gov.br\"),\n",
    "    (\"GISELE LACERDA\", \"giselel@eletronuclear.gov.br\"),\n",
    "    (\"MERELLIN BULHÕES\", \"merelli@eletronuclear.gov.br\"),\n",
    "    (\"POLIANA CASSIANO\", \"poli01@eletronuclear.gov.br\"),\n",
    "    (\"MANOEL JORDÃO\", \"mjcar@eletronuclear.gov.br\"),\n",
    "    (\"DAYANA\", \"\"),      # email não fornecido\n",
    "    (\"BARBARA\", \"\"),     # email não fornecido\n",
    "    (\"LUIS\", \"\"),        # email não fornecido\n",
    "    (\"PAULO\", \"\"),       # email não fornecido\n",
    "    (\"MARIA CLARA\", \"claraf@eletronuclear.gov.br\"),\n",
    "    (\"GIOVANA OLIVEIRA\", \"gioliv@eletronuclear.gov.br\"),\n",
    "    (\"LUIZ FELIPE\", \"lmendes@eletronuclear.gov.br\"),\n",
    "    (\"MANUELA SANTOS\", \"manusan@eletronuclear.gov.br\"),\n",
    "    (\"JOÃO PEDRO\", \"jpcunha@eletronuclear.gov.br\"),\n",
    "    (\"JAQUELINE VASCONCELOS\", \"jaquasc@eletronuclear.gov.br\"),\n",
    "    (\"HENRIQUE PASSOS\", \"henrique.passos@marteengenharia.com.br\"),\n",
    "    (\"MARCOS VINÍCIOS\", \"vinicio@eletronuclear.gov.br\"),\n",
    "    (\"FLÁVIA FLUTUOSO\", \"flacris@eletronuclear.gov.br\"),\n",
    "    (\"ALUISIO PEYNEAU\", \"alupey@eletronuclear.gov.br\")\n",
    "]\n",
    "\n",
    "# Inserir dados na tabela email_db\n",
    "cursor.executemany('''\n",
    "INSERT INTO email_db (comprador, email) VALUES (?, ?)\n",
    "''', dados_email)\n",
    "\n",
    "conn.commit()\n",
    "conn.close()\n",
    "\n",
    "print(\"Tabela email_db criada e dados inseridos com sucesso.\")\n"
   ]
  },
  {
   "cell_type": "code",
   "execution_count": 2,
   "id": "5433e5f4",
   "metadata": {},
   "outputs": [
    {
     "name": "stdout",
     "output_type": "stream",
     "text": [
      "Comprador: ELIANE NOLASCO - Email: elianee@eletronuclear.gov.br\n",
      "Comprador: GISELE LACERDA - Email: giselel@eletronuclear.gov.br\n",
      "Comprador: MERELLIN BULHÕES - Email: merelli@eletronuclear.gov.br\n",
      "Comprador: POLIANA CASSIANO - Email: poli01@eletronuclear.gov.br\n",
      "Comprador: MANOEL JORDÃO - Email: mjcar@eletronuclear.gov.br\n",
      "Comprador: DAYANA - Email: \n",
      "Comprador: BARBARA - Email: \n",
      "Comprador: LUIS - Email: \n",
      "Comprador: PAULO - Email: \n",
      "Comprador: MARIA CLARA - Email: claraf@eletronuclear.gov.br\n",
      "Comprador: GIOVANA OLIVEIRA - Email: gioliv@eletronuclear.gov.br\n",
      "Comprador: LUIZ FELIPE - Email: lmendes@eletronuclear.gov.br\n",
      "Comprador: MANUELA SANTOS - Email: manusan@eletronuclear.gov.br\n",
      "Comprador: JOÃO PEDRO - Email: jpcunha@eletronuclear.gov.br\n",
      "Comprador: JAQUELINE VASCONCELOS - Email: jaquasc@eletronuclear.gov.br\n",
      "Comprador: HENRIQUE PASSOS - Email: henrique.passos@marteengenharia.com.br\n",
      "Comprador: MARCOS VINÍCIOS - Email: vinicio@eletronuclear.gov.br\n",
      "Comprador: FLÁVIA FLUTUOSO - Email: flacris@eletronuclear.gov.br\n",
      "Comprador: ALUISIO PEYNEAU - Email: alupey@eletronuclear.gov.br\n"
     ]
    }
   ],
   "source": [
    "import sqlite3\n",
    "\n",
    "# Conectar ao banco cotation.db\n",
    "conn = sqlite3.connect('cotation.db')\n",
    "cursor = conn.cursor()\n",
    "\n",
    "# Executar consulta para selecionar todos os compradores e emails\n",
    "cursor.execute('SELECT comprador, email FROM email_db')\n",
    "\n",
    "# Buscar todos os resultados\n",
    "rows = cursor.fetchall()\n",
    "\n",
    "# Exibir os resultados\n",
    "for comprador, email in rows:\n",
    "    print(f\"Comprador: {comprador} - Email: {email}\")\n",
    "\n",
    "# Fechar conexão\n",
    "conn.close()\n"
   ]
  },
  {
   "cell_type": "code",
   "execution_count": null,
   "id": "68e80da4",
   "metadata": {},
   "outputs": [],
   "source": [
    "import sqlite3\n",
    "\n",
    "# Conectar ao banco\n",
    "conn = sqlite3.connect('cotation.db')\n",
    "cursor = conn.cursor()\n",
    "\n",
    "# Executar consulta para buscar todos os dados da tabela\n",
    "cursor.execute('SELECT * FROM BASE_COTATION')\n",
    "\n",
    "# Pegar todos os resultados\n",
    "linhas = cursor.fetchall()\n",
    "\n",
    "# Exibir os dados\n",
    "for linha in linhas:\n",
    "    # linha é uma tupla: (id, category, product, description, ncm, value, comments)\n",
    "    print(f\"ID: {linha[0]}\")\n",
    "    print(f\"Categoria: {linha[1]}\")\n",
    "    print(f\"Produto: {linha[2]}\")\n",
    "    print(f\"Descrição: {linha[3]}\")\n",
    "    print(f\"NCM: {linha[4]}\")\n",
    "    print(f\"Valor: R$ {linha[5]:.2f}\")\n",
    "    print(f\"Comentários: {linha[6]}\")\n",
    "    print(\"-\" * 40)\n",
    "\n",
    "# Fechar conexão\n",
    "conn.close()\n"
   ]
  },
  {
   "cell_type": "code",
   "execution_count": null,
   "id": "2dbaa6fc",
   "metadata": {},
   "outputs": [],
   "source": []
  },
  {
   "cell_type": "code",
   "execution_count": null,
   "id": "11d924c3-9eb3-4230-8e04-04c0411a898e",
   "metadata": {
    "scrolled": true
   },
   "outputs": [
    {
     "name": "stdout",
     "output_type": "stream",
     "text": [
      "Tabela UN_BASE criada e unidades inseridas com sucesso.\n"
     ]
    }
   ],
   "source": []
  },
  {
   "cell_type": "code",
   "execution_count": null,
   "id": "1a7cfd44",
   "metadata": {},
   "outputs": [],
   "source": []
  },
  {
   "cell_type": "code",
   "execution_count": 6,
   "id": "6cb2cbff-7848-4117-87f1-d23928b27901",
   "metadata": {},
   "outputs": [
    {
     "name": "stdout",
     "output_type": "stream",
     "text": [
      "ID: 1 - Unidade: UNIT\n",
      "ID: 2 - Unidade: -\n",
      "ID: 3 - Unidade: BOBINA\n",
      "ID: 4 - Unidade: CJ\n",
      "ID: 5 - Unidade: FARDO\n",
      "ID: 6 - Unidade: FOLHA\n",
      "ID: 7 - Unidade: KG\n",
      "ID: 8 - Unidade: LITRO\n",
      "ID: 9 - Unidade: M²\n",
      "ID: 10 - Unidade: M³\n",
      "ID: 11 - Unidade: METRO\n",
      "ID: 12 - Unidade: METROS\n",
      "ID: 13 - Unidade: PACOTE\n",
      "ID: 14 - Unidade: PARES\n",
      "ID: 15 - Unidade: PEÇA\n"
     ]
    }
   ],
   "source": [
    "import sqlite3\n",
    "\n",
    "# Conectar ao banco\n",
    "conn = sqlite3.connect('cotation.db')\n",
    "cursor = conn.cursor()\n",
    "\n",
    "# Executar consulta para buscar todas as unidades\n",
    "cursor.execute('SELECT id, unit FROM UN_BASE')\n",
    "\n",
    "# Buscar todos os resultados\n",
    "rows = cursor.fetchall()\n",
    "\n",
    "# Iterar e imprimir\n",
    "for row in rows:\n",
    "    print(f\"ID: {row[0]} - Unidade: {row[1]}\")\n",
    "\n",
    "# Fechar conexão\n",
    "conn.close()\n"
   ]
  },
  {
   "cell_type": "code",
   "execution_count": null,
   "id": "14fb19d0-5722-4ce8-98f8-3e9f27cf6486",
   "metadata": {},
   "outputs": [],
   "source": []
  },
  {
   "cell_type": "code",
   "execution_count": null,
   "id": "56362ae7",
   "metadata": {},
   "outputs": [],
   "source": []
  }
 ],
 "metadata": {
  "kernelspec": {
   "display_name": "venv",
   "language": "python",
   "name": "python3"
  },
  "language_info": {
   "codemirror_mode": {
    "name": "ipython",
    "version": 3
   },
   "file_extension": ".py",
   "mimetype": "text/x-python",
   "name": "python",
   "nbconvert_exporter": "python",
   "pygments_lexer": "ipython3",
   "version": "3.12.10"
  }
 },
 "nbformat": 4,
 "nbformat_minor": 5
}
